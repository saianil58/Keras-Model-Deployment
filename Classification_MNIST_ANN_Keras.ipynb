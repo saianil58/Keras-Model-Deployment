{
 "cells": [
  {
   "cell_type": "markdown",
   "metadata": {
    "slideshow": {
     "slide_type": "slide"
    }
   },
   "source": [
    "### Load tensorflow"
   ]
  },
  {
   "cell_type": "code",
   "execution_count": 1,
   "metadata": {},
   "outputs": [],
   "source": [
    "# !pip install tensorflow==2.0"
   ]
  },
  {
   "cell_type": "code",
   "execution_count": 2,
   "metadata": {},
   "outputs": [],
   "source": [
    "import tensorflow as tf\n",
    "tf.keras.backend.clear_session\n",
    "tf.random.set_seed(100)"
   ]
  },
  {
   "cell_type": "markdown",
   "metadata": {
    "slideshow": {
     "slide_type": "slide"
    }
   },
   "source": [
    "### Collect Data"
   ]
  },
  {
   "cell_type": "code",
   "execution_count": 3,
   "metadata": {},
   "outputs": [],
   "source": [
    "(trainX, trainY),(testX, testY) = tf.keras.datasets.mnist.load_data()"
   ]
  },
  {
   "cell_type": "markdown",
   "metadata": {
    "slideshow": {
     "slide_type": "slide"
    }
   },
   "source": [
    "### Convert Output label to multiple values"
   ]
  },
  {
   "cell_type": "code",
   "execution_count": 4,
   "metadata": {},
   "outputs": [],
   "source": [
    "trainY = tf.keras.utils.to_categorical(trainY, num_classes=10)\n",
    "testY = tf.keras.utils.to_categorical(testY, num_classes=10)"
   ]
  },
  {
   "cell_type": "markdown",
   "metadata": {
    "slideshow": {
     "slide_type": "slide"
    }
   },
   "source": [
    "## Build the Graph"
   ]
  },
  {
   "cell_type": "code",
   "execution_count": 5,
   "metadata": {},
   "outputs": [],
   "source": [
    "#Initialize Sequential model\n",
    "model = tf.keras.models.Sequential()\n",
    "\n",
    "#Reshape data from 2D to 1D -> 28x28 to 784\n",
    "model.add(tf.keras.layers.Reshape((784,),input_shape=(28,28,)))\n",
    "\n",
    "#Normalize the data\n",
    "model.add(tf.keras.layers.BatchNormalization())"
   ]
  },
  {
   "cell_type": "markdown",
   "metadata": {
    "slideshow": {
     "slide_type": "slide"
    }
   },
   "source": [
    "## Build the Graph..."
   ]
  },
  {
   "cell_type": "code",
   "execution_count": 6,
   "metadata": {
    "slideshow": {
     "slide_type": "fragment"
    }
   },
   "outputs": [],
   "source": [
    "#Add hidden layer\n",
    "model.add(tf.keras.layers.Dense(60, activation='selu'))"
   ]
  },
  {
   "cell_type": "code",
   "execution_count": 7,
   "metadata": {},
   "outputs": [],
   "source": [
    "#Add dropout layer\n",
    "model.add(tf.keras.layers.Dropout(.4))"
   ]
  },
  {
   "cell_type": "code",
   "execution_count": 8,
   "metadata": {
    "slideshow": {
     "slide_type": "fragment"
    }
   },
   "outputs": [],
   "source": [
    "#Add hidden layer\n",
    "model.add(tf.keras.layers.Dense(30, activation='selu'))"
   ]
  },
  {
   "cell_type": "code",
   "execution_count": 9,
   "metadata": {
    "slideshow": {
     "slide_type": "fragment"
    }
   },
   "outputs": [],
   "source": [
    "#Add OUTPUT layer\n",
    "model.add(tf.keras.layers.Dense(10, activation='softmax'))"
   ]
  },
  {
   "cell_type": "markdown",
   "metadata": {
    "slideshow": {
     "slide_type": "slide"
    }
   },
   "source": [
    "## Build the Graph..."
   ]
  },
  {
   "cell_type": "code",
   "execution_count": 10,
   "metadata": {
    "slideshow": {
     "slide_type": "fragment"
    }
   },
   "outputs": [],
   "source": [
    "#Create optimizer with non-default learning rate\n",
    "sgd_optimizer = tf.keras.optimizers.SGD(lr=0.001)\n",
    "\n",
    "#Compile the model\n",
    "model.compile(optimizer=sgd_optimizer, loss='categorical_crossentropy', metrics=['accuracy'])"
   ]
  },
  {
   "cell_type": "markdown",
   "metadata": {
    "slideshow": {
     "slide_type": "slide"
    }
   },
   "source": [
    "## Review model"
   ]
  },
  {
   "cell_type": "code",
   "execution_count": 11,
   "metadata": {},
   "outputs": [
    {
     "name": "stdout",
     "output_type": "stream",
     "text": [
      "Model: \"sequential\"\n",
      "_________________________________________________________________\n",
      "Layer (type)                 Output Shape              Param #   \n",
      "=================================================================\n",
      "reshape (Reshape)            (None, 784)               0         \n",
      "_________________________________________________________________\n",
      "batch_normalization (BatchNo (None, 784)               3136      \n",
      "_________________________________________________________________\n",
      "dense (Dense)                (None, 60)                47100     \n",
      "_________________________________________________________________\n",
      "dropout (Dropout)            (None, 60)                0         \n",
      "_________________________________________________________________\n",
      "dense_1 (Dense)              (None, 30)                1830      \n",
      "_________________________________________________________________\n",
      "dense_2 (Dense)              (None, 10)                310       \n",
      "=================================================================\n",
      "Total params: 52,376\n",
      "Trainable params: 50,808\n",
      "Non-trainable params: 1,568\n",
      "_________________________________________________________________\n"
     ]
    }
   ],
   "source": [
    "model.summary()"
   ]
  },
  {
   "cell_type": "markdown",
   "metadata": {
    "slideshow": {
     "slide_type": "slide"
    }
   },
   "source": [
    "## Train the model"
   ]
  },
  {
   "cell_type": "code",
   "execution_count": 12,
   "metadata": {},
   "outputs": [
    {
     "name": "stdout",
     "output_type": "stream",
     "text": [
      "Train on 60000 samples, validate on 10000 samples\n",
      "Epoch 1/30\n",
      "60000/60000 [==============================] - 6s 92us/sample - loss: 1.1759 - accuracy: 0.6260 - val_loss: 0.6357 - val_accuracy: 0.8350\n",
      "Epoch 2/30\n",
      "60000/60000 [==============================] - 5s 91us/sample - loss: 0.6694 - accuracy: 0.7908 - val_loss: 0.4823 - val_accuracy: 0.8735\n",
      "Epoch 3/30\n",
      "60000/60000 [==============================] - 5s 81us/sample - loss: 0.5671 - accuracy: 0.8233 - val_loss: 0.4938 - val_accuracy: 0.8843\n",
      "Epoch 4/30\n",
      "60000/60000 [==============================] - 5s 81us/sample - loss: 0.5164 - accuracy: 0.8408 - val_loss: 0.4876 - val_accuracy: 0.8910\n",
      "Epoch 5/30\n",
      "60000/60000 [==============================] - 7s 110us/sample - loss: 0.4871 - accuracy: 0.8498 - val_loss: 0.3962 - val_accuracy: 0.8983\n",
      "Epoch 6/30\n",
      "60000/60000 [==============================] - 6s 96us/sample - loss: 0.4630 - accuracy: 0.8584 - val_loss: 0.4027 - val_accuracy: 0.9023\n",
      "Epoch 7/30\n",
      "60000/60000 [==============================] - 6s 94us/sample - loss: 0.4480 - accuracy: 0.8630 - val_loss: 0.4560 - val_accuracy: 0.9053\n",
      "Epoch 8/30\n",
      "60000/60000 [==============================] - 6s 97us/sample - loss: 0.4323 - accuracy: 0.8687 - val_loss: 0.3979 - val_accuracy: 0.9076\n",
      "Epoch 9/30\n",
      "60000/60000 [==============================] - 6s 95us/sample - loss: 0.4249 - accuracy: 0.8705 - val_loss: 0.3470 - val_accuracy: 0.9109\n",
      "Epoch 10/30\n",
      "60000/60000 [==============================] - 6s 98us/sample - loss: 0.4105 - accuracy: 0.8751 - val_loss: 0.3801 - val_accuracy: 0.9124\n",
      "Epoch 11/30\n",
      "60000/60000 [==============================] - 5s 90us/sample - loss: 0.4025 - accuracy: 0.8778 - val_loss: 0.3324 - val_accuracy: 0.9140\n",
      "Epoch 12/30\n",
      "60000/60000 [==============================] - 5s 88us/sample - loss: 0.3941 - accuracy: 0.8807 - val_loss: 0.3724 - val_accuracy: 0.9165\n",
      "Epoch 13/30\n",
      "60000/60000 [==============================] - 6s 98us/sample - loss: 0.3872 - accuracy: 0.8821 - val_loss: 0.3974 - val_accuracy: 0.9168\n",
      "Epoch 14/30\n",
      "60000/60000 [==============================] - 5s 89us/sample - loss: 0.3843 - accuracy: 0.8828 - val_loss: 0.3108 - val_accuracy: 0.9193\n",
      "Epoch 15/30\n",
      "60000/60000 [==============================] - 5s 89us/sample - loss: 0.3770 - accuracy: 0.8855 - val_loss: 0.3128 - val_accuracy: 0.9210\n",
      "Epoch 16/30\n",
      "60000/60000 [==============================] - 6s 95us/sample - loss: 0.3727 - accuracy: 0.8875 - val_loss: 0.3798 - val_accuracy: 0.9230\n",
      "Epoch 17/30\n",
      "60000/60000 [==============================] - 5s 91us/sample - loss: 0.3677 - accuracy: 0.8883 - val_loss: 0.3484 - val_accuracy: 0.9233\n",
      "Epoch 18/30\n",
      "60000/60000 [==============================] - 5s 88us/sample - loss: 0.3602 - accuracy: 0.8891 - val_loss: 0.3255 - val_accuracy: 0.9230\n",
      "Epoch 19/30\n",
      "60000/60000 [==============================] - 6s 99us/sample - loss: 0.3546 - accuracy: 0.8921 - val_loss: 0.3204 - val_accuracy: 0.9264\n",
      "Epoch 20/30\n",
      "60000/60000 [==============================] - 5s 91us/sample - loss: 0.3572 - accuracy: 0.8905 - val_loss: 0.3833 - val_accuracy: 0.9255\n",
      "Epoch 21/30\n",
      "60000/60000 [==============================] - 5s 90us/sample - loss: 0.3482 - accuracy: 0.8950 - val_loss: 0.4264 - val_accuracy: 0.9265\n",
      "Epoch 22/30\n",
      "60000/60000 [==============================] - 6s 95us/sample - loss: 0.3418 - accuracy: 0.8965 - val_loss: 0.3121 - val_accuracy: 0.9282\n",
      "Epoch 23/30\n",
      "60000/60000 [==============================] - 5s 88us/sample - loss: 0.3392 - accuracy: 0.8965 - val_loss: 0.3563 - val_accuracy: 0.9286\n",
      "Epoch 24/30\n",
      "60000/60000 [==============================] - 6s 92us/sample - loss: 0.3351 - accuracy: 0.8981 - val_loss: 0.4138 - val_accuracy: 0.9283\n",
      "Epoch 25/30\n",
      "60000/60000 [==============================] - 6s 96us/sample - loss: 0.3331 - accuracy: 0.8993 - val_loss: 0.3593 - val_accuracy: 0.9314\n",
      "Epoch 26/30\n",
      "60000/60000 [==============================] - 5s 87us/sample - loss: 0.3318 - accuracy: 0.8993 - val_loss: 0.3227 - val_accuracy: 0.9304\n",
      "Epoch 27/30\n",
      "60000/60000 [==============================] - 6s 92us/sample - loss: 0.3248 - accuracy: 0.9008 - val_loss: 0.3613 - val_accuracy: 0.9316\n",
      "Epoch 28/30\n",
      "60000/60000 [==============================] - 6s 95us/sample - loss: 0.3213 - accuracy: 0.9041 - val_loss: 0.3464 - val_accuracy: 0.9336\n",
      "Epoch 29/30\n",
      "60000/60000 [==============================] - 6s 92us/sample - loss: 0.3193 - accuracy: 0.9031 - val_loss: 0.4175 - val_accuracy: 0.9318\n",
      "Epoch 30/30\n",
      "60000/60000 [==============================] - 5s 90us/sample - loss: 0.3152 - accuracy: 0.9042 - val_loss: 0.3130 - val_accuracy: 0.9327\n"
     ]
    }
   ],
   "source": [
    "history =model.fit(trainX,trainY,          \n",
    "          validation_data=(testX,testY),\n",
    "          epochs=30,\n",
    "#           batch_size=128\n",
    "         )"
   ]
  },
  {
   "cell_type": "code",
   "execution_count": 13,
   "metadata": {},
   "outputs": [],
   "source": [
    "from tensorflow.keras.models import load_model\n",
    "model.save('ANN_Model.h5')  # creates a HDF5 file 'ANN_Model.h5'"
   ]
  }
 ],
 "metadata": {
  "kernelspec": {
   "display_name": "Python 3",
   "language": "python",
   "name": "python3"
  },
  "language_info": {
   "codemirror_mode": {
    "name": "ipython",
    "version": 3
   },
   "file_extension": ".py",
   "mimetype": "text/x-python",
   "name": "python",
   "nbconvert_exporter": "python",
   "pygments_lexer": "ipython3",
   "version": "3.7.4"
  },
  "toc": {
   "base_numbering": 1,
   "nav_menu": {},
   "number_sections": true,
   "sideBar": true,
   "skip_h1_title": false,
   "title_cell": "Table of Contents",
   "title_sidebar": "Contents",
   "toc_cell": false,
   "toc_position": {},
   "toc_section_display": true,
   "toc_window_display": false
  }
 },
 "nbformat": 4,
 "nbformat_minor": 2
}
