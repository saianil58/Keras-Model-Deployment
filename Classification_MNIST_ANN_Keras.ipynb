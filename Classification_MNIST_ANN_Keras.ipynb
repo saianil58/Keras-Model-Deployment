{
 "cells": [
  {
   "cell_type": "markdown",
   "metadata": {
    "slideshow": {
     "slide_type": "slide"
    }
   },
   "source": [
    "### Load tensorflow"
   ]
  },
  {
   "cell_type": "code",
   "execution_count": 1,
   "metadata": {},
   "outputs": [],
   "source": [
    "# !pip install tensorflow==2.0"
   ]
  },
  {
   "cell_type": "code",
   "execution_count": 2,
   "metadata": {},
   "outputs": [],
   "source": [
    "import tensorflow as tf\n",
    "tf.keras.backend.clear_session\n",
    "tf.random.set_seed(100)"
   ]
  },
  {
   "cell_type": "markdown",
   "metadata": {
    "slideshow": {
     "slide_type": "slide"
    }
   },
   "source": [
    "### Collect Data"
   ]
  },
  {
   "cell_type": "code",
   "execution_count": 3,
   "metadata": {},
   "outputs": [],
   "source": [
    "(trainX, trainY),(testX, testY) = tf.keras.datasets.mnist.load_data()"
   ]
  },
  {
   "cell_type": "markdown",
   "metadata": {
    "slideshow": {
     "slide_type": "slide"
    }
   },
   "source": [
    "### Convert Output label to multiple values"
   ]
  },
  {
   "cell_type": "code",
   "execution_count": 4,
   "metadata": {},
   "outputs": [],
   "source": [
    "trainY = tf.keras.utils.to_categorical(trainY, num_classes=10)\n",
    "testY = tf.keras.utils.to_categorical(testY, num_classes=10)"
   ]
  },
  {
   "cell_type": "markdown",
   "metadata": {
    "slideshow": {
     "slide_type": "slide"
    }
   },
   "source": [
    "## Build the Graph"
   ]
  },
  {
   "cell_type": "code",
   "execution_count": 5,
   "metadata": {},
   "outputs": [],
   "source": [
    "#Initialize Sequential model\n",
    "model = tf.keras.models.Sequential()\n",
    "\n",
    "#Reshape data from 2D to 1D -> 28x28 to 784\n",
    "model.add(tf.keras.layers.Reshape((784,),input_shape=(28,28,)))\n",
    "\n",
    "#Normalize the data\n",
    "model.add(tf.keras.layers.BatchNormalization())"
   ]
  },
  {
   "cell_type": "markdown",
   "metadata": {
    "slideshow": {
     "slide_type": "slide"
    }
   },
   "source": [
    "## Build the Graph..."
   ]
  },
  {
   "cell_type": "code",
   "execution_count": 6,
   "metadata": {
    "slideshow": {
     "slide_type": "fragment"
    }
   },
   "outputs": [],
   "source": [
    "#Add hidden layer\n",
    "model.add(tf.keras.layers.Dense(60, activation='selu'))"
   ]
  },
  {
   "cell_type": "code",
   "execution_count": 7,
   "metadata": {
    "slideshow": {
     "slide_type": "fragment"
    }
   },
   "outputs": [],
   "source": [
    "#Add hidden layer\n",
    "model.add(tf.keras.layers.Dense(30, activation='selu'))"
   ]
  },
  {
   "cell_type": "code",
   "execution_count": 8,
   "metadata": {
    "slideshow": {
     "slide_type": "fragment"
    }
   },
   "outputs": [],
   "source": [
    "#Add OUTPUT layer\n",
    "model.add(tf.keras.layers.Dense(10, activation='softmax'))"
   ]
  },
  {
   "cell_type": "markdown",
   "metadata": {
    "slideshow": {
     "slide_type": "slide"
    }
   },
   "source": [
    "## Build the Graph..."
   ]
  },
  {
   "cell_type": "code",
   "execution_count": 9,
   "metadata": {
    "slideshow": {
     "slide_type": "fragment"
    }
   },
   "outputs": [],
   "source": [
    "#Create optimizer with non-default learning rate\n",
    "sgd_optimizer = tf.keras.optimizers.SGD(lr=0.001)\n",
    "\n",
    "#Compile the model\n",
    "model.compile(optimizer=sgd_optimizer, loss='categorical_crossentropy', metrics=['accuracy'])"
   ]
  },
  {
   "cell_type": "markdown",
   "metadata": {
    "slideshow": {
     "slide_type": "slide"
    }
   },
   "source": [
    "## Review model"
   ]
  },
  {
   "cell_type": "code",
   "execution_count": 10,
   "metadata": {},
   "outputs": [
    {
     "name": "stdout",
     "output_type": "stream",
     "text": [
      "Model: \"sequential\"\n",
      "_________________________________________________________________\n",
      "Layer (type)                 Output Shape              Param #   \n",
      "=================================================================\n",
      "reshape (Reshape)            (None, 784)               0         \n",
      "_________________________________________________________________\n",
      "batch_normalization (BatchNo (None, 784)               3136      \n",
      "_________________________________________________________________\n",
      "dense (Dense)                (None, 60)                47100     \n",
      "_________________________________________________________________\n",
      "dense_1 (Dense)              (None, 30)                1830      \n",
      "_________________________________________________________________\n",
      "dense_2 (Dense)              (None, 10)                310       \n",
      "=================================================================\n",
      "Total params: 52,376\n",
      "Trainable params: 50,808\n",
      "Non-trainable params: 1,568\n",
      "_________________________________________________________________\n"
     ]
    }
   ],
   "source": [
    "model.summary()"
   ]
  },
  {
   "cell_type": "markdown",
   "metadata": {
    "slideshow": {
     "slide_type": "slide"
    }
   },
   "source": [
    "## Train the model"
   ]
  },
  {
   "cell_type": "code",
   "execution_count": 11,
   "metadata": {},
   "outputs": [
    {
     "name": "stdout",
     "output_type": "stream",
     "text": [
      "Train on 60000 samples, validate on 10000 samples\n",
      "Epoch 1/100\n",
      "60000/60000 [==============================] - 8s 139us/sample - loss: 0.9219 - accuracy: 0.7168 - val_loss: 0.6405 - val_accuracy: 0.8402\n",
      "Epoch 2/100\n",
      "60000/60000 [==============================] - 7s 112us/sample - loss: 0.4966 - accuracy: 0.8535 - val_loss: 0.4894 - val_accuracy: 0.8744\n",
      "Epoch 3/100\n",
      "60000/60000 [==============================] - 7s 120us/sample - loss: 0.4193 - accuracy: 0.8748 - val_loss: 0.5078 - val_accuracy: 0.8855\n",
      "Epoch 4/100\n",
      "60000/60000 [==============================] - 8s 128us/sample - loss: 0.3817 - accuracy: 0.8849 - val_loss: 0.5018 - val_accuracy: 0.8942\n",
      "Epoch 5/100\n",
      "60000/60000 [==============================] - 6s 106us/sample - loss: 0.3552 - accuracy: 0.8939 - val_loss: 0.3937 - val_accuracy: 0.9006\n",
      "Epoch 6/100\n",
      "60000/60000 [==============================] - 6s 102us/sample - loss: 0.3367 - accuracy: 0.8989 - val_loss: 0.4014 - val_accuracy: 0.9055\n",
      "Epoch 7/100\n",
      "60000/60000 [==============================] - 6s 99us/sample - loss: 0.3233 - accuracy: 0.9041 - val_loss: 0.4763 - val_accuracy: 0.9090\n",
      "Epoch 8/100\n",
      "60000/60000 [==============================] - 5s 91us/sample - loss: 0.3113 - accuracy: 0.9070 - val_loss: 0.3926 - val_accuracy: 0.9124\n",
      "Epoch 9/100\n",
      "60000/60000 [==============================] - 6s 99us/sample - loss: 0.3016 - accuracy: 0.9100 - val_loss: 0.3420 - val_accuracy: 0.9157\n",
      "Epoch 10/100\n",
      "60000/60000 [==============================] - 6s 99us/sample - loss: 0.2897 - accuracy: 0.9141 - val_loss: 0.3793 - val_accuracy: 0.9170\n",
      "Epoch 11/100\n",
      "60000/60000 [==============================] - 6s 93us/sample - loss: 0.2804 - accuracy: 0.9167 - val_loss: 0.3204 - val_accuracy: 0.9207\n",
      "Epoch 12/100\n",
      "60000/60000 [==============================] - 6s 100us/sample - loss: 0.2721 - accuracy: 0.9198 - val_loss: 0.3592 - val_accuracy: 0.9228\n",
      "Epoch 13/100\n",
      "60000/60000 [==============================] - 6s 95us/sample - loss: 0.2660 - accuracy: 0.9209 - val_loss: 0.3868 - val_accuracy: 0.9242\n",
      "Epoch 14/100\n",
      "60000/60000 [==============================] - 5s 90us/sample - loss: 0.2600 - accuracy: 0.9229 - val_loss: 0.2977 - val_accuracy: 0.9262\n",
      "Epoch 15/100\n",
      "60000/60000 [==============================] - 6s 108us/sample - loss: 0.2543 - accuracy: 0.9247 - val_loss: 0.2992 - val_accuracy: 0.9284\n",
      "Epoch 16/100\n",
      "60000/60000 [==============================] - 5s 89us/sample - loss: 0.2464 - accuracy: 0.9268 - val_loss: 0.3682 - val_accuracy: 0.9306\n",
      "Epoch 17/100\n",
      "60000/60000 [==============================] - 6s 98us/sample - loss: 0.2435 - accuracy: 0.9280 - val_loss: 0.3301 - val_accuracy: 0.9306\n",
      "Epoch 18/100\n",
      "60000/60000 [==============================] - 6s 96us/sample - loss: 0.2365 - accuracy: 0.9297 - val_loss: 0.2969 - val_accuracy: 0.9325\n",
      "Epoch 19/100\n",
      "60000/60000 [==============================] - 5s 88us/sample - loss: 0.2297 - accuracy: 0.9330 - val_loss: 0.2966 - val_accuracy: 0.9360\n",
      "Epoch 20/100\n",
      "60000/60000 [==============================] - 6s 93us/sample - loss: 0.2282 - accuracy: 0.9323 - val_loss: 0.3752 - val_accuracy: 0.9353\n",
      "Epoch 21/100\n",
      "60000/60000 [==============================] - 5s 88us/sample - loss: 0.2228 - accuracy: 0.9330 - val_loss: 0.4107 - val_accuracy: 0.9353\n",
      "Epoch 22/100\n",
      "60000/60000 [==============================] - 6s 102us/sample - loss: 0.2179 - accuracy: 0.9360 - val_loss: 0.2897 - val_accuracy: 0.9374\n",
      "Epoch 23/100\n",
      "60000/60000 [==============================] - 7s 117us/sample - loss: 0.2126 - accuracy: 0.9370 - val_loss: 0.3596 - val_accuracy: 0.9378\n",
      "Epoch 24/100\n",
      "60000/60000 [==============================] - 5s 91us/sample - loss: 0.2087 - accuracy: 0.9387 - val_loss: 0.3954 - val_accuracy: 0.9375\n",
      "Epoch 25/100\n",
      "60000/60000 [==============================] - 6s 95us/sample - loss: 0.2058 - accuracy: 0.9394 - val_loss: 0.3581 - val_accuracy: 0.9413\n",
      "Epoch 26/100\n",
      "60000/60000 [==============================] - 6s 103us/sample - loss: 0.2031 - accuracy: 0.9395 - val_loss: 0.2886 - val_accuracy: 0.9411\n",
      "Epoch 27/100\n",
      "60000/60000 [==============================] - 6s 103us/sample - loss: 0.1985 - accuracy: 0.9416 - val_loss: 0.3479 - val_accuracy: 0.9426\n",
      "Epoch 28/100\n",
      "60000/60000 [==============================] - 7s 123us/sample - loss: 0.1937 - accuracy: 0.9422 - val_loss: 0.3179 - val_accuracy: 0.9430\n",
      "Epoch 29/100\n",
      "60000/60000 [==============================] - 6s 94us/sample - loss: 0.1945 - accuracy: 0.9422 - val_loss: 0.3951 - val_accuracy: 0.9436\n",
      "Epoch 30/100\n",
      "60000/60000 [==============================] - 7s 109us/sample - loss: 0.1885 - accuracy: 0.9444 - val_loss: 0.2760 - val_accuracy: 0.9438\n",
      "Epoch 31/100\n",
      "60000/60000 [==============================] - 7s 109us/sample - loss: 0.1853 - accuracy: 0.9448 - val_loss: 0.3130 - val_accuracy: 0.9449\n",
      "Epoch 32/100\n",
      "60000/60000 [==============================] - 6s 102us/sample - loss: 0.1835 - accuracy: 0.9456 - val_loss: 0.3163 - val_accuracy: 0.9457\n",
      "Epoch 33/100\n",
      "60000/60000 [==============================] - 6s 108us/sample - loss: 0.1821 - accuracy: 0.9458 - val_loss: 0.3322 - val_accuracy: 0.9456\n",
      "Epoch 34/100\n",
      "60000/60000 [==============================] - 6s 102us/sample - loss: 0.1789 - accuracy: 0.9467 - val_loss: 0.3030 - val_accuracy: 0.9466\n",
      "Epoch 35/100\n",
      "60000/60000 [==============================] - 6s 99us/sample - loss: 0.1755 - accuracy: 0.9478 - val_loss: 0.3082 - val_accuracy: 0.9477\n",
      "Epoch 36/100\n",
      "60000/60000 [==============================] - 7s 111us/sample - loss: 0.1732 - accuracy: 0.9481 - val_loss: 0.4427 - val_accuracy: 0.9477\n",
      "Epoch 37/100\n",
      "60000/60000 [==============================] - 6s 98us/sample - loss: 0.1698 - accuracy: 0.9493 - val_loss: 0.2477 - val_accuracy: 0.9490\n",
      "Epoch 38/100\n",
      "60000/60000 [==============================] - 7s 113us/sample - loss: 0.1659 - accuracy: 0.9503 - val_loss: 0.3152 - val_accuracy: 0.9486\n",
      "Epoch 39/100\n",
      "60000/60000 [==============================] - 6s 105us/sample - loss: 0.1655 - accuracy: 0.9500 - val_loss: 0.2780 - val_accuracy: 0.9500\n",
      "Epoch 40/100\n",
      "60000/60000 [==============================] - 6s 100us/sample - loss: 0.1636 - accuracy: 0.9513 - val_loss: 0.2458 - val_accuracy: 0.9494\n",
      "Epoch 41/100\n",
      "60000/60000 [==============================] - 7s 109us/sample - loss: 0.1608 - accuracy: 0.9516 - val_loss: 0.2468 - val_accuracy: 0.9509\n",
      "Epoch 42/100\n",
      "60000/60000 [==============================] - 6s 100us/sample - loss: 0.1596 - accuracy: 0.9523 - val_loss: 0.2400 - val_accuracy: 0.9491\n",
      "Epoch 43/100\n",
      "60000/60000 [==============================] - 6s 100us/sample - loss: 0.1566 - accuracy: 0.9535 - val_loss: 0.3637 - val_accuracy: 0.9523\n",
      "Epoch 44/100\n",
      "60000/60000 [==============================] - 6s 98us/sample - loss: 0.1561 - accuracy: 0.9539 - val_loss: 0.3215 - val_accuracy: 0.9520\n",
      "Epoch 45/100\n",
      "60000/60000 [==============================] - 6s 96us/sample - loss: 0.1524 - accuracy: 0.9550 - val_loss: 0.2787 - val_accuracy: 0.9524\n",
      "Epoch 46/100\n",
      "60000/60000 [==============================] - 8s 130us/sample - loss: 0.1515 - accuracy: 0.9539 - val_loss: 0.2250 - val_accuracy: 0.9538\n",
      "Epoch 47/100\n",
      "60000/60000 [==============================] - 9s 144us/sample - loss: 0.1483 - accuracy: 0.9555 - val_loss: 0.2590 - val_accuracy: 0.9529\n",
      "Epoch 48/100\n",
      "60000/60000 [==============================] - 8s 138us/sample - loss: 0.1481 - accuracy: 0.9555 - val_loss: 0.2816 - val_accuracy: 0.9539\n",
      "Epoch 49/100\n",
      "60000/60000 [==============================] - 6s 102us/sample - loss: 0.1449 - accuracy: 0.9582 - val_loss: 0.2478 - val_accuracy: 0.9552\n",
      "Epoch 50/100\n",
      "60000/60000 [==============================] - 7s 120us/sample - loss: 0.1433 - accuracy: 0.9574 - val_loss: 0.2588 - val_accuracy: 0.9543\n",
      "Epoch 51/100\n",
      "60000/60000 [==============================] - 7s 120us/sample - loss: 0.1418 - accuracy: 0.9568 - val_loss: 0.2790 - val_accuracy: 0.9538\n",
      "Epoch 52/100\n",
      "60000/60000 [==============================] - 7s 115us/sample - loss: 0.1410 - accuracy: 0.9573 - val_loss: 0.3269 - val_accuracy: 0.9542\n",
      "Epoch 53/100\n",
      "60000/60000 [==============================] - 7s 118us/sample - loss: 0.1398 - accuracy: 0.9582 - val_loss: 0.2815 - val_accuracy: 0.9558\n",
      "Epoch 54/100\n",
      "60000/60000 [==============================] - 7s 113us/sample - loss: 0.1362 - accuracy: 0.9596 - val_loss: 0.3738 - val_accuracy: 0.9564\n"
     ]
    },
    {
     "name": "stdout",
     "output_type": "stream",
     "text": [
      "Epoch 55/100\n",
      "60000/60000 [==============================] - 7s 112us/sample - loss: 0.1371 - accuracy: 0.9588 - val_loss: 0.2563 - val_accuracy: 0.9571\n",
      "Epoch 56/100\n",
      "60000/60000 [==============================] - 7s 120us/sample - loss: 0.1329 - accuracy: 0.9599 - val_loss: 0.3725 - val_accuracy: 0.9562\n",
      "Epoch 57/100\n",
      "60000/60000 [==============================] - 7s 117us/sample - loss: 0.1347 - accuracy: 0.9592 - val_loss: 0.2298 - val_accuracy: 0.9572\n",
      "Epoch 58/100\n",
      "60000/60000 [==============================] - 6s 106us/sample - loss: 0.1329 - accuracy: 0.9596 - val_loss: 0.3307 - val_accuracy: 0.9576\n",
      "Epoch 59/100\n",
      "60000/60000 [==============================] - 7s 112us/sample - loss: 0.1304 - accuracy: 0.9609 - val_loss: 0.2266 - val_accuracy: 0.9588\n",
      "Epoch 60/100\n",
      "60000/60000 [==============================] - 7s 124us/sample - loss: 0.1286 - accuracy: 0.9613 - val_loss: 0.2928 - val_accuracy: 0.9586\n",
      "Epoch 61/100\n",
      "60000/60000 [==============================] - 7s 123us/sample - loss: 0.1270 - accuracy: 0.9616 - val_loss: 0.3047 - val_accuracy: 0.9596\n",
      "Epoch 62/100\n",
      "60000/60000 [==============================] - 8s 135us/sample - loss: 0.1271 - accuracy: 0.9613 - val_loss: 0.2972 - val_accuracy: 0.9588\n",
      "Epoch 63/100\n",
      "60000/60000 [==============================] - 8s 130us/sample - loss: 0.1239 - accuracy: 0.9628 - val_loss: 0.2437 - val_accuracy: 0.9588\n",
      "Epoch 64/100\n",
      "60000/60000 [==============================] - 8s 134us/sample - loss: 0.1242 - accuracy: 0.9626 - val_loss: 0.2966 - val_accuracy: 0.9582\n",
      "Epoch 65/100\n",
      "60000/60000 [==============================] - 8s 131us/sample - loss: 0.1234 - accuracy: 0.9627 - val_loss: 0.2136 - val_accuracy: 0.9598\n",
      "Epoch 66/100\n",
      "60000/60000 [==============================] - 8s 140us/sample - loss: 0.1219 - accuracy: 0.9629 - val_loss: 0.3661 - val_accuracy: 0.9588\n",
      "Epoch 67/100\n",
      "60000/60000 [==============================] - 8s 139us/sample - loss: 0.1209 - accuracy: 0.9638 - val_loss: 0.3605 - val_accuracy: 0.9587\n",
      "Epoch 68/100\n",
      "60000/60000 [==============================] - 8s 141us/sample - loss: 0.1213 - accuracy: 0.9635 - val_loss: 0.2385 - val_accuracy: 0.9595\n",
      "Epoch 69/100\n",
      "60000/60000 [==============================] - 8s 127us/sample - loss: 0.1205 - accuracy: 0.9635 - val_loss: 0.3050 - val_accuracy: 0.9586\n",
      "Epoch 70/100\n",
      "60000/60000 [==============================] - 7s 121us/sample - loss: 0.1167 - accuracy: 0.9647 - val_loss: 0.3049 - val_accuracy: 0.9593\n",
      "Epoch 71/100\n",
      "60000/60000 [==============================] - 7s 115us/sample - loss: 0.1163 - accuracy: 0.9648 - val_loss: 0.2613 - val_accuracy: 0.9593\n",
      "Epoch 72/100\n",
      "60000/60000 [==============================] - 7s 117us/sample - loss: 0.1156 - accuracy: 0.9653 - val_loss: 0.2211 - val_accuracy: 0.9614\n",
      "Epoch 73/100\n",
      "60000/60000 [==============================] - 7s 113us/sample - loss: 0.1127 - accuracy: 0.9659 - val_loss: 0.2356 - val_accuracy: 0.9606\n",
      "Epoch 74/100\n",
      "60000/60000 [==============================] - 7s 118us/sample - loss: 0.1129 - accuracy: 0.9660 - val_loss: 0.3760 - val_accuracy: 0.9604\n",
      "Epoch 75/100\n",
      "60000/60000 [==============================] - 7s 119us/sample - loss: 0.1135 - accuracy: 0.9664 - val_loss: 0.3143 - val_accuracy: 0.9603\n",
      "Epoch 76/100\n",
      "60000/60000 [==============================] - 8s 129us/sample - loss: 0.1095 - accuracy: 0.9670 - val_loss: 0.3385 - val_accuracy: 0.9598\n",
      "Epoch 77/100\n",
      "60000/60000 [==============================] - 7s 123us/sample - loss: 0.1112 - accuracy: 0.9666 - val_loss: 0.3345 - val_accuracy: 0.9606\n",
      "Epoch 78/100\n",
      "60000/60000 [==============================] - 8s 126us/sample - loss: 0.1103 - accuracy: 0.9668 - val_loss: 0.2961 - val_accuracy: 0.9595\n",
      "Epoch 79/100\n",
      "60000/60000 [==============================] - 8s 137us/sample - loss: 0.1080 - accuracy: 0.9677 - val_loss: 0.2891 - val_accuracy: 0.9618\n",
      "Epoch 80/100\n",
      "60000/60000 [==============================] - 8s 129us/sample - loss: 0.1090 - accuracy: 0.9671 - val_loss: 0.2537 - val_accuracy: 0.9612\n",
      "Epoch 81/100\n",
      "60000/60000 [==============================] - 8s 125us/sample - loss: 0.1067 - accuracy: 0.9676 - val_loss: 0.4052 - val_accuracy: 0.9591\n",
      "Epoch 82/100\n",
      "60000/60000 [==============================] - 7s 110us/sample - loss: 0.1051 - accuracy: 0.9676 - val_loss: 0.2788 - val_accuracy: 0.9618\n",
      "Epoch 83/100\n",
      "60000/60000 [==============================] - 7s 121us/sample - loss: 0.1052 - accuracy: 0.9680 - val_loss: 0.2751 - val_accuracy: 0.9605\n",
      "Epoch 84/100\n",
      "60000/60000 [==============================] - 7s 114us/sample - loss: 0.1035 - accuracy: 0.9687 - val_loss: 0.2504 - val_accuracy: 0.9625\n",
      "Epoch 85/100\n",
      "60000/60000 [==============================] - 7s 118us/sample - loss: 0.1022 - accuracy: 0.9688 - val_loss: 0.3668 - val_accuracy: 0.9612\n",
      "Epoch 86/100\n",
      "60000/60000 [==============================] - 7s 114us/sample - loss: 0.1026 - accuracy: 0.9694 - val_loss: 0.3909 - val_accuracy: 0.9615\n",
      "Epoch 87/100\n",
      "60000/60000 [==============================] - 8s 129us/sample - loss: 0.1026 - accuracy: 0.9693 - val_loss: 0.2428 - val_accuracy: 0.9621\n",
      "Epoch 88/100\n",
      "60000/60000 [==============================] - 7s 117us/sample - loss: 0.1030 - accuracy: 0.9688 - val_loss: 0.3418 - val_accuracy: 0.9621\n",
      "Epoch 89/100\n",
      "60000/60000 [==============================] - 7s 118us/sample - loss: 0.1006 - accuracy: 0.9692 - val_loss: 0.3304 - val_accuracy: 0.9613\n",
      "Epoch 90/100\n",
      "60000/60000 [==============================] - 7s 115us/sample - loss: 0.1008 - accuracy: 0.9693 - val_loss: 0.3638 - val_accuracy: 0.9624\n",
      "Epoch 91/100\n",
      "60000/60000 [==============================] - 7s 119us/sample - loss: 0.0994 - accuracy: 0.9692 - val_loss: 0.2666 - val_accuracy: 0.9618\n",
      "Epoch 92/100\n",
      "60000/60000 [==============================] - 8s 125us/sample - loss: 0.0983 - accuracy: 0.9700 - val_loss: 0.3402 - val_accuracy: 0.9634\n",
      "Epoch 93/100\n",
      "60000/60000 [==============================] - 7s 120us/sample - loss: 0.0960 - accuracy: 0.9711 - val_loss: 0.2894 - val_accuracy: 0.9630\n",
      "Epoch 94/100\n",
      "60000/60000 [==============================] - 7s 122us/sample - loss: 0.0975 - accuracy: 0.9704 - val_loss: 0.4115 - val_accuracy: 0.9622\n",
      "Epoch 95/100\n",
      "60000/60000 [==============================] - 7s 110us/sample - loss: 0.0960 - accuracy: 0.9710 - val_loss: 0.2394 - val_accuracy: 0.9643\n",
      "Epoch 96/100\n",
      "60000/60000 [==============================] - 7s 118us/sample - loss: 0.0952 - accuracy: 0.9712 - val_loss: 0.3352 - val_accuracy: 0.9616\n",
      "Epoch 97/100\n",
      "60000/60000 [==============================] - 7s 118us/sample - loss: 0.0933 - accuracy: 0.9719 - val_loss: 0.2494 - val_accuracy: 0.9623\n",
      "Epoch 98/100\n",
      "60000/60000 [==============================] - 8s 140us/sample - loss: 0.0954 - accuracy: 0.9707 - val_loss: 0.3253 - val_accuracy: 0.9631\n",
      "Epoch 99/100\n",
      "60000/60000 [==============================] - 9s 155us/sample - loss: 0.0944 - accuracy: 0.9715 - val_loss: 0.2132 - val_accuracy: 0.9636\n",
      "Epoch 100/100\n",
      "60000/60000 [==============================] - 13s 211us/sample - loss: 0.0923 - accuracy: 0.9720 - val_loss: 0.2659 - val_accuracy: 0.9621\n"
     ]
    }
   ],
   "source": [
    "history =model.fit(trainX,trainY,          \n",
    "          validation_data=(testX,testY),\n",
    "          epochs=100,\n",
    "#           batch_size=128\n",
    "         )"
   ]
  },
  {
   "cell_type": "code",
   "execution_count": 12,
   "metadata": {},
   "outputs": [],
   "source": [
    "from tensorflow.keras.models import load_model\n",
    "model.save('ANN_Model.h5')  # creates a HDF5 file 'ANN_Model.h5'"
   ]
  }
 ],
 "metadata": {
  "kernelspec": {
   "display_name": "Python 3",
   "language": "python",
   "name": "python3"
  },
  "language_info": {
   "codemirror_mode": {
    "name": "ipython",
    "version": 3
   },
   "file_extension": ".py",
   "mimetype": "text/x-python",
   "name": "python",
   "nbconvert_exporter": "python",
   "pygments_lexer": "ipython3",
   "version": "3.7.4"
  },
  "toc": {
   "base_numbering": 1,
   "nav_menu": {},
   "number_sections": true,
   "sideBar": true,
   "skip_h1_title": false,
   "title_cell": "Table of Contents",
   "title_sidebar": "Contents",
   "toc_cell": false,
   "toc_position": {},
   "toc_section_display": true,
   "toc_window_display": false
  }
 },
 "nbformat": 4,
 "nbformat_minor": 2
}
